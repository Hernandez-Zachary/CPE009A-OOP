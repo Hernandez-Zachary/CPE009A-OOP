{
  "nbformat": 4,
  "nbformat_minor": 0,
  "metadata": {
    "colab": {
      "provenance": [],
      "authorship_tag": "ABX9TyOfCOOHw7sn+hrdrQnPVVEg",
      "include_colab_link": true
    },
    "kernelspec": {
      "name": "python3",
      "display_name": "Python 3"
    },
    "language_info": {
      "name": "python"
    }
  },
  "cells": [
    {
      "cell_type": "markdown",
      "metadata": {
        "id": "view-in-github",
        "colab_type": "text"
      },
      "source": [
        "<a href=\"https://colab.research.google.com/github/Hernandez-Zachary/CPE009A-OOP/blob/main/demo_2.ipynb\" target=\"_parent\"><img src=\"https://colab.research.google.com/assets/colab-badge.svg\" alt=\"Open In Colab\"/></a>"
      ]
    },
    {
      "cell_type": "markdown",
      "source": [
        "#Algorithm\n",
        "\n",
        "*   Steps or\n",
        "*   List item\n",
        "\n",
        "\n",
        "\n",
        "\n",
        "\n"
      ],
      "metadata": {
        "id": "ViRMRbE9H4-X"
      }
    },
    {
      "cell_type": "markdown",
      "source": [
        "#Flowchart Symbols\n",
        "\n",
        "*   oval-terminal;only for start and end of program\n",
        "*   hexagon- starts with initialize; declaration of variables\n",
        "*   paralellogram-input output\n",
        "*   diamond-yes or no\n",
        "*   rectangle- process\n",
        "*   arrows-direction of flowchart\n",
        "\n",
        "\n",
        "\n",
        "\n"
      ],
      "metadata": {
        "id": "tlUXXnrgKPdY"
      }
    },
    {
      "cell_type": "code",
      "source": [
        "print(\"Enter three grades\")\n",
        "num1=int(input())\n",
        "num2=int(input())\n",
        "num3=int(input())\n",
        "\n",
        "sum=num1+num2+num3\n",
        "print(\"The sum is: \")\n",
        "print (sum)\n",
        "\n",
        "ave= sum/3\n",
        "print(\"The average is: \")\n",
        "print (float(ave))\n"
      ],
      "metadata": {
        "id": "YroZO87_MZki",
        "colab": {
          "base_uri": "https://localhost:8080/"
        },
        "outputId": "13ca79f0-1e4e-4432-dd7d-7af0879ba276"
      },
      "execution_count": null,
      "outputs": [
        {
          "output_type": "stream",
          "name": "stdout",
          "text": [
            "Enter three grades\n",
            "50\n",
            "48\n",
            "69\n",
            "The sum is: \n",
            "167\n",
            "The average is: \n",
            "55.666666666666664\n"
          ]
        }
      ]
    },
    {
      "cell_type": "markdown",
      "source": [],
      "metadata": {
        "id": "m3z1UDo8VFXn"
      }
    }
  ]
}