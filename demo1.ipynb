{
  "nbformat": 4,
  "nbformat_minor": 0,
  "metadata": {
    "colab": {
      "provenance": [],
      "authorship_tag": "ABX9TyMbyVAe4SeqUAzB7D6Gmgnx",
      "include_colab_link": true
    },
    "kernelspec": {
      "name": "python3",
      "display_name": "Python 3"
    },
    "language_info": {
      "name": "python"
    }
  },
  "cells": [
    {
      "cell_type": "markdown",
      "metadata": {
        "id": "view-in-github",
        "colab_type": "text"
      },
      "source": [
        "<a href=\"https://colab.research.google.com/github/Hernandez-Zachary/CPE009A-OOP/blob/main/demo1.ipynb\" target=\"_parent\"><img src=\"https://colab.research.google.com/assets/colab-badge.svg\" alt=\"Open In Colab\"/></a>"
      ]
    },
    {
      "cell_type": "markdown",
      "source": [
        "#Python Indentation\n",
        "\n"
      ],
      "metadata": {
        "id": "Z7kD3eLKH4IJ"
      }
    },
    {
      "cell_type": "code",
      "source": [
        "if 5>2:\n",
        "  print(\"Five is greater than two!\")"
      ],
      "metadata": {
        "colab": {
          "base_uri": "https://localhost:8080/"
        },
        "id": "i0LgidUbIYNc",
        "outputId": "79e1d218-ce55-4785-dac4-8c354b9144b4"
      },
      "execution_count": 3,
      "outputs": [
        {
          "output_type": "stream",
          "name": "stdout",
          "text": [
            "Five is greater than two!\n"
          ]
        }
      ]
    },
    {
      "cell_type": "markdown",
      "source": [
        "#Python Comments\n",
        "comments starts with a #"
      ],
      "metadata": {
        "id": "sFL8Y9SSJy7p"
      }
    },
    {
      "cell_type": "code",
      "source": [
        "if 5>2:\n",
        "  print(\"Five is greater than two!\") #compare 5 & 2"
      ],
      "metadata": {
        "colab": {
          "base_uri": "https://localhost:8080/"
        },
        "id": "7aC9JOozJ4Tp",
        "outputId": "999d63ac-760b-42cc-f478-2c0b5ca3e8ef"
      },
      "execution_count": 4,
      "outputs": [
        {
          "output_type": "stream",
          "name": "stdout",
          "text": [
            "Five is greater than two!\n"
          ]
        }
      ]
    },
    {
      "cell_type": "markdown",
      "source": [
        "#Variable Naming Conventions\n",
        "short name/descriptive names\n",
        "rules:\n",
        "-must start with a letter or underscore char\n",
        "-cannot start with num\n",
        "-can only contain alpha-numeric characters and underscores (A-z,0-9, and _)\n",
        "-case sensitive"
      ],
      "metadata": {
        "id": "oBK67sdpKvAz"
      }
    },
    {
      "cell_type": "markdown",
      "source": [
        "#Python Variable\n",
        "variables are containers for storing valiues"
      ],
      "metadata": {
        "id": "38VU1tinLdbd"
      }
    },
    {
      "cell_type": "code",
      "source": [
        "x=1 #this is a single variable w/ a value\n",
        "a,b=0,-1 #comma as seperator, a=0 and b=-1\n",
        "\n",
        "print (a)\n",
        "print (b)\n",
        "print (x)\n",
        "\n",
        "b=\":>\"\n",
        "print(b)\n"
      ],
      "metadata": {
        "colab": {
          "base_uri": "https://localhost:8080/"
        },
        "id": "sEpG1AaxLkJh",
        "outputId": "50bd1a06-fd79-479a-e194-0986ecb50282"
      },
      "execution_count": 14,
      "outputs": [
        {
          "output_type": "stream",
          "name": "stdout",
          "text": [
            "0\n",
            "-1\n",
            "1\n",
            ":>\n"
          ]
        }
      ]
    },
    {
      "cell_type": "markdown",
      "source": [
        "#Python Casting\n"
      ],
      "metadata": {
        "id": "hgjTq8EfNdqb"
      }
    },
    {
      "cell_type": "code",
      "source": [
        "b=\"sally\"#type of string\n",
        "b=int(4)\n",
        "print(b)\n",
        "\n",
        "b=float(4)\n",
        "print(b)"
      ],
      "metadata": {
        "colab": {
          "base_uri": "https://localhost:8080/"
        },
        "id": "A5tYW02NNzAI",
        "outputId": "ded3d131-9870-47e0-b24d-9fb80a5a7a75"
      },
      "execution_count": 15,
      "outputs": [
        {
          "output_type": "stream",
          "name": "stdout",
          "text": [
            "4\n",
            "4.0\n"
          ]
        }
      ]
    },
    {
      "cell_type": "markdown",
      "source": [
        "#Type() Function\n",
        "print out the data type"
      ],
      "metadata": {
        "id": "feZ3sPMkOzSQ"
      }
    },
    {
      "cell_type": "code",
      "source": [
        "x=5\n",
        "y=\"Jamie\"\n",
        "print(type(x))\n",
        "print(type(y))"
      ],
      "metadata": {
        "colab": {
          "base_uri": "https://localhost:8080/"
        },
        "id": "5MDW7GD-O4vi",
        "outputId": "20fdb5ee-1f06-4ba7-a3f9-dd70cd60f52f"
      },
      "execution_count": 16,
      "outputs": [
        {
          "output_type": "stream",
          "name": "stdout",
          "text": [
            "<class 'int'>\n",
            "<class 'str'>\n"
          ]
        }
      ]
    },
    {
      "cell_type": "markdown",
      "source": [
        "#Double Quotes/ Single Quotes\n"
      ],
      "metadata": {
        "id": "awVCQEYTPPPY"
      }
    },
    {
      "cell_type": "code",
      "source": [
        "y=\"John\"\n",
        "y='John'\n",
        "\n",
        "print(y)\n",
        "print(y)"
      ],
      "metadata": {
        "colab": {
          "base_uri": "https://localhost:8080/"
        },
        "id": "SjfEvhE8PWSq",
        "outputId": "cc57b9a2-e63c-4860-81b4-911be9f12045"
      },
      "execution_count": 17,
      "outputs": [
        {
          "output_type": "stream",
          "name": "stdout",
          "text": [
            "John\n",
            "John\n"
          ]
        }
      ]
    },
    {
      "cell_type": "markdown",
      "source": [
        "#Case Sensitive\n",
        "\n",
        "example;\n",
        "a=4\n",
        "A=\"Sally\"\n",
        "## A will not overwrite a"
      ],
      "metadata": {
        "id": "3W9R7IoAP7Vv"
      }
    },
    {
      "cell_type": "markdown",
      "source": [
        "#Multiple Variables\n"
      ],
      "metadata": {
        "id": "1zBnmPhzQPFY"
      }
    },
    {
      "cell_type": "code",
      "source": [
        "x,y,z=\"hi\",\"I'm\",\"Jamiee\"\n",
        "print(x)\n",
        "print(y)\n",
        "print(z)"
      ],
      "metadata": {
        "colab": {
          "base_uri": "https://localhost:8080/"
        },
        "id": "AMBZoVtlQUDv",
        "outputId": "0228464b-75c6-4441-a805-82c3cb8cd637"
      },
      "execution_count": 18,
      "outputs": [
        {
          "output_type": "stream",
          "name": "stdout",
          "text": [
            "hi\n",
            "I'm\n",
            "Jamiee\n"
          ]
        }
      ]
    },
    {
      "cell_type": "markdown",
      "source": [
        "#One Value to Multiple Variable"
      ],
      "metadata": {
        "id": "wh8kwrOmQ8wr"
      }
    },
    {
      "cell_type": "code",
      "source": [
        "x=y=z=\"four\"\n",
        "print(x)\n",
        "print(y)\n",
        "print(z)"
      ],
      "metadata": {
        "colab": {
          "base_uri": "https://localhost:8080/"
        },
        "id": "kpw9fcAvRABg",
        "outputId": "cade0c1a-7ecd-44ef-a6bc-1b6fd6b30a16"
      },
      "execution_count": 19,
      "outputs": [
        {
          "output_type": "stream",
          "name": "stdout",
          "text": [
            "four\n",
            "four\n",
            "four\n"
          ]
        }
      ]
    },
    {
      "cell_type": "markdown",
      "source": [
        "#Output Variable\n",
        "print is used to output variables and (+) is used to combine both text and variable"
      ],
      "metadata": {
        "id": "L26DBn9hRL83"
      }
    },
    {
      "cell_type": "code",
      "source": [
        "x=\"fun\"\n",
        "print(\"Python programming is \"+x)\n",
        "\n",
        "#other way\n",
        "\n",
        "x=\"Pythong is \"\n",
        "y=\"fun\"\n",
        "z=x+y\n",
        "print(z)"
      ],
      "metadata": {
        "colab": {
          "base_uri": "https://localhost:8080/"
        },
        "id": "KM_QEJmcRU3P",
        "outputId": "11154469-13bd-4e6c-bf67-39a966e4abee"
      },
      "execution_count": 21,
      "outputs": [
        {
          "output_type": "stream",
          "name": "stdout",
          "text": [
            "Python programming is fun\n",
            "Pythong is fun\n"
          ]
        }
      ]
    }
  ]
}