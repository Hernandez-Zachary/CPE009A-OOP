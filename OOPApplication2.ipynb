{
  "nbformat": 4,
  "nbformat_minor": 0,
  "metadata": {
    "colab": {
      "provenance": [],
      "authorship_tag": "ABX9TyN1lcbGdiAgRySqdDe79CWx",
      "include_colab_link": true
    },
    "kernelspec": {
      "name": "python3",
      "display_name": "Python 3"
    },
    "language_info": {
      "name": "python"
    }
  },
  "cells": [
    {
      "cell_type": "markdown",
      "metadata": {
        "id": "view-in-github",
        "colab_type": "text"
      },
      "source": [
        "<a href=\"https://colab.research.google.com/github/Hernandez-Zachary/CPE009A-OOP/blob/main/OOPApplication2.ipynb\" target=\"_parent\"><img src=\"https://colab.research.google.com/assets/colab-badge.svg\" alt=\"Open In Colab\"/></a>"
      ]
    },
    {
      "cell_type": "code",
      "execution_count": 41,
      "metadata": {
        "colab": {
          "base_uri": "https://localhost:8080/",
          "height": 216
        },
        "id": "hJBdccMUsazZ",
        "outputId": "d704ddb0-1988-45c4-a878-ec05413bd9a9"
      },
      "outputs": [
        {
          "output_type": "error",
          "ename": "TypeError",
          "evalue": "Shape.__init__() takes 2 positional arguments but 3 were given",
          "traceback": [
            "\u001b[0;31m---------------------------------------------------------------------------\u001b[0m",
            "\u001b[0;31mTypeError\u001b[0m                                 Traceback (most recent call last)",
            "\u001b[0;32m<ipython-input-41-84af94f3c272>\u001b[0m in \u001b[0;36m<cell line: 20>\u001b[0;34m()\u001b[0m\n\u001b[1;32m     18\u001b[0m   \u001b[0;32mpass\u001b[0m\u001b[0;34m\u001b[0m\u001b[0;34m\u001b[0m\u001b[0m\n\u001b[1;32m     19\u001b[0m \u001b[0;34m\u001b[0m\u001b[0m\n\u001b[0;32m---> 20\u001b[0;31m \u001b[0mtriangle\u001b[0m\u001b[0;34m=\u001b[0m \u001b[0mTriangle\u001b[0m\u001b[0;34m(\u001b[0m\u001b[0mTriangle\u001b[0m\u001b[0;34m,\u001b[0m\u001b[0;36m3\u001b[0m\u001b[0;34m)\u001b[0m\u001b[0;34m\u001b[0m\u001b[0;34m\u001b[0m\u001b[0m\n\u001b[0m\u001b[1;32m     21\u001b[0m \u001b[0mtriangle\u001b[0m\u001b[0;34m.\u001b[0m\u001b[0mOutput\u001b[0m\u001b[0;34m(\u001b[0m\u001b[0;34m)\u001b[0m\u001b[0;34m\u001b[0m\u001b[0;34m\u001b[0m\u001b[0m\n\u001b[1;32m     22\u001b[0m \u001b[0;34m\u001b[0m\u001b[0m\n",
            "\u001b[0;31mTypeError\u001b[0m: Shape.__init__() takes 2 positional arguments but 3 were given"
          ]
        }
      ],
      "source": [
        "class Shape:\n",
        "  def __init__(self,name,sides):\n",
        "    self._name= name\n",
        "    self._sides= sides\n",
        "  def Output(self):\n",
        "      print(\"The \",self._name,\"has \", self._sides, \"sides\")\n",
        "\n",
        "\n",
        "class Triangles(Shape):\n",
        "  pass\n",
        "class Quadrilaterals(Shape):\n",
        "  pass\n",
        "class Pentagons(Shape):\n",
        "  pass\n",
        "class Hexagons(Shape):\n",
        "  pass\n",
        "class Heptagons(Shape):\n",
        "  pass\n",
        "\n",
        "triangle= Triangle(Triangle,3)\n",
        "triangle.Output()\n",
        "\n",
        "quad= Quadrilaterals(4)\n",
        "quad.Output\n",
        "\n",
        "pent= Pentagons(5)\n",
        "pent.Output\n",
        "\n",
        "hex= Hexagons(6)\n",
        "hex.Output\n",
        "\n",
        "hep= Heptagons(7)\n",
        "hep.Output"
      ]
    }
  ]
}