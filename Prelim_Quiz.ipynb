{
  "nbformat": 4,
  "nbformat_minor": 0,
  "metadata": {
    "colab": {
      "provenance": [],
      "authorship_tag": "ABX9TyMH3uNW3P+AIvtEn9C2KCG9",
      "include_colab_link": true
    },
    "kernelspec": {
      "name": "python3",
      "display_name": "Python 3"
    },
    "language_info": {
      "name": "python"
    }
  },
  "cells": [
    {
      "cell_type": "markdown",
      "metadata": {
        "id": "view-in-github",
        "colab_type": "text"
      },
      "source": [
        "<a href=\"https://colab.research.google.com/github/Hernandez-Zachary/CPE009A-OOP/blob/main/Prelim_Quiz.ipynb\" target=\"_parent\"><img src=\"https://colab.research.google.com/assets/colab-badge.svg\" alt=\"Open In Colab\"/></a>"
      ]
    },
    {
      "cell_type": "code",
      "execution_count": 65,
      "metadata": {
        "colab": {
          "base_uri": "https://localhost:8080/"
        },
        "id": "JJX1KBvnRD_0",
        "outputId": "5f73fc4d-7613-4081-d617-08d0a0954485"
      },
      "outputs": [
        {
          "output_type": "stream",
          "name": "stdout",
          "text": [
            "19\n",
            "18\n",
            "17\n",
            "16\n",
            "15\n",
            "14\n",
            "13\n",
            "12\n",
            "11\n",
            "10\n",
            "9\n",
            "8\n",
            "7\n",
            "6\n",
            "5\n",
            "4\n",
            "3\n",
            "2\n",
            "1\n",
            "0\n",
            "-1\n",
            "210\n",
            "10.5\n"
          ]
        }
      ],
      "source": [
        "n=20\n",
        "totalnum= n\n",
        "sum=0\n",
        "ave=0\n",
        "\n",
        "while n>=0:\n",
        " sum+=n\n",
        " n-=1\n",
        " print (n)\n",
        "\n",
        "else:\n",
        " print (sum)\n",
        " ave = sum/totalnum\n",
        " print (ave)\n",
        "\n",
        "\n"
      ]
    }
  ]
}