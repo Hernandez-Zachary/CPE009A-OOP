{
  "cells": [
    {
      "cell_type": "markdown",
      "metadata": {
        "id": "view-in-github",
        "colab_type": "text"
      },
      "source": [
        "<a href=\"https://colab.research.google.com/github/Hernandez-Zachary/CPE009A-OOP/blob/main/Copy_of_Jupyter_Notebook_OOP_Template.ipynb\" target=\"_parent\"><img src=\"https://colab.research.google.com/assets/colab-badge.svg\" alt=\"Open In Colab\"/></a>"
      ]
    },
    {
      "cell_type": "markdown",
      "metadata": {
        "id": "xUKw6dtiGo-r"
      },
      "source": [
        "---\n",
        "<center>\n",
        "\n",
        "**Technological Institute of the Philippines**<br>\n",
        "Computer Engineering Department<br>\n",
        "Quezon city Campus</center>\n",
        "\n",
        "---\n",
        "<center><h4> Activity No. and Title: Hands on Activity 2.1 Literals and Variables</h4></center>\n",
        "\n",
        "---\n",
        "<center>\n",
        "\n",
        "| Course: CPE 009 | Program: BSCpE |\n",
        "|--- | --- |\n",
        "| **Course Title**: Object Oriented Programming | **Date Performed:**April 6 2024 |\n",
        "| **Section**: CpE12s6  | **Date Submitted:**April 8 2024 |\n",
        "| **Student Name**: Zachary James Hernandez | **Instructor's Name**: Ma'am Sayo |\n",
        "</center>"
      ]
    },
    {
      "cell_type": "markdown",
      "source": [
        "**Objective/s of the activity:**\n",
        "\n",
        "1.  Implement literals and variables in a python program.\n",
        "\n",
        "**Intended Learning Outcome:**\n",
        "\n",
        "1.   Write a simple program implementing literals and variables.\n",
        "2.   Use comments and identify keywords from identifiers created by users.\n",
        "\n",
        "**Discussion:**\n",
        "\n",
        "(put your discussions here)\n",
        "\n",
        "**Materials and Equipment:**\n",
        "\n",
        "1.   Computer/Laptop\n",
        "2.   Google Collab\n",
        "\n",
        "**Procedure:**\n",
        "\n",
        " A teacher wants to calculate the final grade in a CpE course and want to write it in a python program. The following are the requirements:\n",
        "1. PRELIM GRADE = 50% Prelim Exam + 50% Prelim Class Standing (CS)\n",
        "2. PRELIM CS = 50% Hands-on activity + 30% Quiz + 20% Assignment\n",
        "3. MIDTERM GRADE = 1/3 of PRELIM GRADE + 2/3 of (50% Midterm Exam + 50% Midterm Class Standing (CS))\n",
        "4. MIDTERM CS = 50% Hands-on activity + 30% Quiz + 20% Assignment\n",
        "5. FINAL GRADE = 1/3 of MIDTERM GRADE + 2/3 of (50% Final Exam + 50% Final Class Standing (CS))\n",
        "6. FINAL CS = 50% Hands-on activity + 30% Quiz + 20% Assignment\n",
        "7. HOAs, Quizzes and Assignments are inputted as average of all submissions and are out of 100%.\n",
        "8. Major exams are inputted out of 100%.\n",
        "9. Show the codes that successfully run the program.\n",
        "10. Provide comments or documentation strings for your program.\n",
        "\n"
      ],
      "metadata": {
        "id": "gNe4D_l5JGiM"
      }
    },
    {
      "cell_type": "code",
      "source": [
        "# Place all the output of the procedures here"
      ],
      "metadata": {
        "id": "WORPHnvZKBVE"
      },
      "execution_count": null,
      "outputs": []
    },
    {
      "cell_type": "markdown",
      "source": [
        "**Supplementary Activity**:\n",
        "\n",
        "1. Test 3 students from the program you created.\n",
        "2. The program should show the name of the student, the PRELIM, MIDTERM and FINAL grades.\n",
        "3. Convert the final grade into the T.I.P.s numerical grade. Please refer to the grading system.\n"
      ],
      "metadata": {
        "id": "bV8A708BKFuC"
      }
    },
    {
      "cell_type": "code",
      "source": [
        "# Place all the output of the supplementary activity here"
      ],
      "metadata": {
        "id": "X2QfbKrmKOJK"
      },
      "execution_count": null,
      "outputs": []
    },
    {
      "cell_type": "markdown",
      "source": [
        "\n",
        "**Questions**: (write your answers in blue font color and questions in black)\n",
        "\n",
        "1.   List item\n",
        "2.   List item"
      ],
      "metadata": {
        "id": "0CYvOMNPKNEq"
      }
    },
    {
      "cell_type": "markdown",
      "source": [
        "**Conclusion**:\n",
        "\n",
        "I have achieved this because literals and variables are very important in programmes such as this and are almost like the backbone of this code. We see the variables as the words that could be given a different value each time, used mainly for the values for the data such as exam grade, hoa grade, exam assignment grade, etc. WE can also see the literals being multiplied to get the class standing.\n"
      ],
      "metadata": {
        "id": "f8oM9wqYKuO1"
      }
    },
    {
      "cell_type": "code",
      "source": [
        "#asks for the students name\n",
        "sName = str(input(\"PLEASE ENTER THE STUDENT'S NAME: \"))\n",
        "print(\"------------------------------------------\")\n",
        "#user interface for finals data input\n",
        "print(\"-----PRELIM DATA INPUT-----\")\n",
        "preEx = float(input(\"PRELIM EXAM DATA: \"))\n",
        "pHoA = float(input(\"PRELIM HANDS ON ACTIVITIES DATA: \"))\n",
        "pQuiz = float(input(\"PRELIM QUIZES DATA: \"))\n",
        "pAss = float(input(\"PRELIM ASSIGNMENTS DATA: \"))\n",
        "\n",
        "#user interface for finals data input\n",
        "print(\"-----MIDTERM DATA INPUT-----\")\n",
        "midEx = float(input(\"MIDTERM EXAM DATA: \"))\n",
        "mHoA = float(input(\"MIDTERM HANDS ON ACTIVITIES DATA: \"))\n",
        "mQuiz = float(input(\"MIDTERM QUIZES DATA: \"))\n",
        "mAss = float(input(\"MIDTERM ASSIGNMENTS DATA: \"))\n",
        "\n",
        "#user interface for finals data input\n",
        "print(\"-----FINALS DATA INPUT-----\")\n",
        "finEx = float(input(\"FINALS EXAM DATA: \"))\n",
        "fHoA = float(input(\"FINALS HANDS ON ACTIVITIES DATA: \"))\n",
        "fQuiz = float(input(\"FINALS QUIZES DATA: \"))\n",
        "fAss = float(input(\"FINALS ASSIGNMENTS DATA: \"))\n",
        "print(\"------------------------------------------\")\n",
        "\n",
        "#this section computes for the prelim grade and class standing\n",
        "preCS = pHoA * 0.5 + pQuiz * 0.3 + pAss * 0.2\n",
        "preGrade =  preEx * 0.5 + preCS  * 0.5\n",
        "\n",
        "#this section computes for the midterm grade and class standing\n",
        "midCS = mHoA * 0.5 + mQuiz * 0.3 + mAss * 0.2\n",
        "midGrade = preGrade * 0.33 + (midEx * 0.5 + midCS * 0.5) * 0.66\n",
        "\n",
        "#this section computes for the final grade and class standing\n",
        "finCS = fHoA * 0.5 + fQuiz * 0.3 + fAss * 0.2\n",
        "finGrade = midGrade * 0.33 + (finEx * 0.5 + finCS * 0.5) * 0.66\n",
        "\n",
        "#this section will find the numerical grade of the final grade\n",
        "if finGrade <= 100 and finGrade>= 94:\n",
        "  numGrade= 1.00\n",
        "elif finGrade <= 93.99 and finGrade>=88.5:\n",
        "  numGrade= 1.25\n",
        "elif finGrade <= 88.49 and finGrade>=83:\n",
        "  numGrade= 1.50\n",
        "elif finGrade <= 82.99 and finGrade>=77.5:\n",
        "  numGrade= 1.75\n",
        "elif finGrade <= 77.49 and finGrade>=72:\n",
        "  numGrade= 2.00\n",
        "elif finGrade <= 71.99 and finGrade>= 65.5:\n",
        "  numGrade= 2.25\n",
        "elif finGrade <= 65.49 and finGrade>= 61:\n",
        "  numGrade= 2.50\n",
        "elif finGrade <= 60.99 and finGrade>= 55.5:\n",
        "  numGrade= 2.75\n",
        "elif finGrade <= 55.49 and finGrade>= 50:\n",
        "  numGrade= 3.00\n",
        "elif finGrade <= 49.99 and finGrade>= 0:\n",
        "  numGrade= 5.00\n",
        "else:\n",
        "  numGrade= 4.00\n",
        "#finally, this sections outputs all the data after the procedure\n",
        "print(\"------------------------------------------\")\n",
        "print(\"The grades of \", sName , \" are as follows:\")\n",
        "print(\"------------------------------------------\")\n",
        "print(\"Prelim Class Standing:\", preCS)\n",
        "print(\"Prelim Grade: \", preGrade)\n",
        "print(\"------------------------------------------\")\n",
        "print(\"Midterm Class Standing:\", midCS)\n",
        "print(\"Midterm Grade: \", midGrade)\n",
        "print(\"------------------------------------------\")\n",
        "print(\"Finals Class Standing:\", finCS)\n",
        "print(\"Finals Grade: \", finGrade)\n",
        "print(\"------------------------------------------\")\n",
        "print(\"T.I.P. Numerical Grade: \", numGrade)\n",
        "\n"
      ],
      "metadata": {
        "colab": {
          "base_uri": "https://localhost:8080/"
        },
        "id": "NHscsOjtxAtB",
        "outputId": "f8169ea3-88a6-43f9-a22b-33207e819029"
      },
      "execution_count": null,
      "outputs": [
        {
          "output_type": "stream",
          "name": "stdout",
          "text": [
            "Enter Hands-on Activity grade: 100\n",
            "Enter Prelim Quiz grade: 85\n",
            "Enter Prelim Assignment grade: 50\n",
            "Prelim CS is:  85.5\n",
            "Enter Prelim Exam grade: 75\n",
            "Prelim Grade is:  80.25\n"
          ]
        }
      ]
    },
    {
      "cell_type": "markdown",
      "source": [
        "**Summarization**:\n",
        "Ultimately, this programme can run and execute its intended purpose, however, there are too many elif and print commands and the programme is too long and can be compressed more"
      ],
      "metadata": {
        "id": "1TSxvSok8q4X"
      }
    }
  ],
  "metadata": {
    "kernelspec": {
      "display_name": "Python 3",
      "language": "python",
      "name": "python3"
    },
    "language_info": {
      "codemirror_mode": {
        "name": "ipython",
        "version": 3
      },
      "file_extension": ".py",
      "mimetype": "text/x-python",
      "name": "python",
      "nbconvert_exporter": "python",
      "pygments_lexer": "ipython3",
      "version": "3.7.3"
    },
    "colab": {
      "provenance": [],
      "include_colab_link": true
    }
  },
  "nbformat": 4,
  "nbformat_minor": 0
}